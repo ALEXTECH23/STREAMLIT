{
  "nbformat": 4,
  "nbformat_minor": 0,
  "metadata": {
    "colab": {
      "provenance": [],
      "authorship_tag": "ABX9TyOMAwuC1NGcy/bm1s2pOMWj",
      "include_colab_link": true
    },
    "kernelspec": {
      "name": "python3",
      "display_name": "Python 3"
    },
    "language_info": {
      "name": "python"
    }
  },
  "cells": [
    {
      "cell_type": "markdown",
      "metadata": {
        "id": "view-in-github",
        "colab_type": "text"
      },
      "source": [
        "<a href=\"https://colab.research.google.com/github/ALEXTECH23/STREAMLIT/blob/main/STREAMLIT_PROJECT.ipynb\" target=\"_parent\"><img src=\"https://colab.research.google.com/assets/colab-badge.svg\" alt=\"Open In Colab\"/></a>"
      ]
    },
    {
      "cell_type": "code",
      "execution_count": 1,
      "metadata": {
        "colab": {
          "base_uri": "https://localhost:8080/",
          "height": 383
        },
        "id": "xzYIQVApHcv4",
        "outputId": "5d9eafe7-43eb-4613-def8-2ada1f9dcf02"
      },
      "outputs": [
        {
          "output_type": "error",
          "ename": "ModuleNotFoundError",
          "evalue": "No module named 'streamlit'",
          "traceback": [
            "\u001b[0;31m---------------------------------------------------------------------------\u001b[0m",
            "\u001b[0;31mModuleNotFoundError\u001b[0m                       Traceback (most recent call last)",
            "\u001b[0;32m/tmp/ipython-input-1-2987175265.py\u001b[0m in \u001b[0;36m<cell line: 0>\u001b[0;34m()\u001b[0m\n\u001b[0;32m----> 1\u001b[0;31m \u001b[0;32mimport\u001b[0m \u001b[0mstreamlit\u001b[0m \u001b[0;32mas\u001b[0m \u001b[0mst\u001b[0m\u001b[0;34m\u001b[0m\u001b[0;34m\u001b[0m\u001b[0m\n\u001b[0m\u001b[1;32m      2\u001b[0m \u001b[0;32mimport\u001b[0m \u001b[0mgspread\u001b[0m\u001b[0;34m\u001b[0m\u001b[0;34m\u001b[0m\u001b[0m\n\u001b[1;32m      3\u001b[0m \u001b[0;32mfrom\u001b[0m \u001b[0moauth2client\u001b[0m\u001b[0;34m.\u001b[0m\u001b[0mservice_account\u001b[0m \u001b[0;32mimport\u001b[0m \u001b[0mServiceAccountCredentials\u001b[0m\u001b[0;34m\u001b[0m\u001b[0;34m\u001b[0m\u001b[0m\n\u001b[1;32m      4\u001b[0m \u001b[0;32mimport\u001b[0m \u001b[0mpandas\u001b[0m \u001b[0;32mas\u001b[0m \u001b[0mpd\u001b[0m\u001b[0;34m\u001b[0m\u001b[0;34m\u001b[0m\u001b[0m\n\u001b[1;32m      5\u001b[0m \u001b[0;34m\u001b[0m\u001b[0m\n",
            "\u001b[0;31mModuleNotFoundError\u001b[0m: No module named 'streamlit'",
            "",
            "\u001b[0;31m---------------------------------------------------------------------------\u001b[0;32m\nNOTE: If your import is failing due to a missing package, you can\nmanually install dependencies using either !pip or !apt.\n\nTo view examples of installing some common dependencies, click the\n\"Open Examples\" button below.\n\u001b[0;31m---------------------------------------------------------------------------\u001b[0m\n"
          ],
          "errorDetails": {
            "actions": [
              {
                "action": "open_url",
                "actionText": "Open Examples",
                "url": "/notebooks/snippets/importing_libraries.ipynb"
              }
            ]
          }
        }
      ],
      "source": [
        "import streamlit as st\n",
        "import gspread\n",
        "from oauth2client.service_account import ServiceAccountCredentials\n",
        "import pandas as pd\n",
        "\n",
        "# === Google Sheets Setup ===\n",
        "scope = [\"https://spreadsheets.google.com/feeds\", \"https://www.googleapis.com/auth/drive\"]\n",
        "creds = ServiceAccountCredentials.from_json_keyfile_name(\"creds.json\", scope)\n",
        "client = gspread.authorize(creds)\n",
        "\n",
        "# Load sheet and tab\n",
        "sheet = client.open(\"YourGoogleSheetName\")  # Replace with your actual sheet name\n",
        "worksheet = sheet.worksheet(\"ALL NEW\")\n",
        "data = worksheet.get_all_records()\n",
        "\n",
        "# Convert to DataFrame\n",
        "df = pd.DataFrame(data)\n",
        "\n",
        "# === Streamlit App ===\n",
        "st.set_page_config(page_title=\"Report Search\", layout=\"wide\")\n",
        "st.title(\"🔍 Search Reports\")\n",
        "\n",
        "tab1, tab2 = st.tabs([\"Search Report\", \"Other Features (Coming Soon)\"])\n",
        "\n",
        "with tab1:\n",
        "    st.subheader(\"Search by Item Code\")\n",
        "\n",
        "    # Input controls\n",
        "    col1, col2, col3 = st.columns([1, 2, 1])\n",
        "\n",
        "    with col1:\n",
        "        letter = st.selectbox(\"Select code letter\", [\"M\", \"C\", \"P\"])\n",
        "\n",
        "    with col2:\n",
        "        number = st.text_input(\"Enter code number\", placeholder=\"e.g. 100\")\n",
        "\n",
        "    with col3:\n",
        "        if st.button(\"Search\"):\n",
        "            if letter and number:\n",
        "                search_code = f\"{letter.upper()}{number.strip()}\"\n",
        "                st.markdown(f\"🔎 Searching for: **{search_code}**\")\n",
        "\n",
        "                # Search in column B\n",
        "                matching_df = df[df[df.columns[1]].astype(str) == search_code]\n",
        "\n",
        "                if not matching_df.empty:\n",
        "                    st.success(f\"Found {len(matching_df)} matching device(s).\")\n",
        "                    st.dataframe(matching_df)\n",
        "                else:\n",
        "                    st.warning(\"No matching devices found.\")\n",
        "            else:\n",
        "                st.error(\"Please enter both letter and number.\")\n",
        "\n"
      ]
    }
  ]
}